{
  "nbformat": 4,
  "nbformat_minor": 0,
  "metadata": {
    "colab": {
      "provenance": [],
      "authorship_tag": "ABX9TyOZqRnZJ5uKotmXwNDnGPbx",
      "include_colab_link": true
    },
    "kernelspec": {
      "name": "python3",
      "display_name": "Python 3"
    },
    "language_info": {
      "name": "python"
    }
  },
  "cells": [
    {
      "cell_type": "markdown",
      "metadata": {
        "id": "view-in-github",
        "colab_type": "text"
      },
      "source": [
        "<a href=\"https://colab.research.google.com/github/badstyle-goodstyle/machine_learning/blob/master/tts_example.ipynb\" target=\"_parent\"><img src=\"https://colab.research.google.com/assets/colab-badge.svg\" alt=\"Open In Colab\"/></a>"
      ]
    },
    {
      "cell_type": "code",
      "execution_count": 6,
      "metadata": {
        "colab": {
          "base_uri": "https://localhost:8080/"
        },
        "id": "H_CnRXu9G1xb",
        "outputId": "2037fe14-ca51-4d5b-8ccd-f010454663ba"
      },
      "outputs": [
        {
          "output_type": "stream",
          "name": "stdout",
          "text": [
            "Looking in indexes: https://pypi.org/simple, https://us-python.pkg.dev/colab-wheels/public/simple/\n",
            "Requirement already satisfied: gtts in /usr/local/lib/python3.8/dist-packages (2.3.1)\n",
            "Requirement already satisfied: requests<3,>=2.27 in /usr/local/lib/python3.8/dist-packages (from gtts) (2.28.2)\n",
            "Requirement already satisfied: click<8.2,>=7.1 in /usr/local/lib/python3.8/dist-packages (from gtts) (7.1.2)\n",
            "Requirement already satisfied: charset-normalizer<4,>=2 in /usr/local/lib/python3.8/dist-packages (from requests<3,>=2.27->gtts) (2.1.1)\n",
            "Requirement already satisfied: certifi>=2017.4.17 in /usr/local/lib/python3.8/dist-packages (from requests<3,>=2.27->gtts) (2022.12.7)\n",
            "Requirement already satisfied: urllib3<1.27,>=1.21.1 in /usr/local/lib/python3.8/dist-packages (from requests<3,>=2.27->gtts) (1.24.3)\n",
            "Requirement already satisfied: idna<4,>=2.5 in /usr/local/lib/python3.8/dist-packages (from requests<3,>=2.27->gtts) (2.10)\n"
          ]
        }
      ],
      "source": [
        "!pip install gtts\n",
        "from gtts import gTTS\n",
        "from IPython.display import Audio\n",
        "import os"
      ]
    },
    {
      "cell_type": "code",
      "source": [
        "text_data = \"Привет, мир.\"\n",
        "sound_file = 'example.wav'\n",
        "\n",
        "audio_data = gTTS(text=text_data, lang=\"ru\", slow=False)\n",
        "audio_data.save(sound_file)\n",
        "\n",
        "Audio(sound_file, autoplay=True)"
      ],
      "metadata": {
        "colab": {
          "base_uri": "https://localhost:8080/",
          "height": 61
        },
        "id": "aB_0JVsHJzAr",
        "outputId": "096d7898-a11b-4ec4-819a-42db381ef0ef"
      },
      "execution_count": 7,
      "outputs": [
        {
          "output_type": "execute_result",
          "data": {
            "text/plain": [
              "<IPython.lib.display.Audio object>"
            ],
            "text/html": [
              "\n",
              "                <audio  controls=\"controls\" autoplay=\"autoplay\">\n",
              "                    <source src=\"data:audio/x-wav;base64,//NExAAAAANIAUAAAP8zRwUGf5BMH/FL3lXXDH+1t+2nZcMD5542J/tJEyo79GPRj2d0/P/ZT6f3+x1blfk+icEYN/6cuZD6Dh4I/4fOfiQPCZBMNEk3EhPk/RNqQMNh//NExFMSMXI8AZk4AHCQRDxWGWGQvYddfmBZKxCjOFZ7NjUTk+0NlHS5U6dsrRQVc19IvdTDV5Y9dhafh566UQg+u81bbYTc730vKG96VNh0W+5lqrq2qScubjhO3Na2//NExF0iAwI4AZpYAWnvUp76NpX4qNC4c7tCahtPmrRu5OvzztzTRv/rXSkQsy2VO73wlAxOy1p9IgCToLBcA6hrj6FgZpCOgEJ5ZgqeGyGzKEGkoxuQAM0kE3yUHwlB//NExCgbOk6EAZhoAMY7wqRmIr45z5LpwSQYIcxwmfnS/WnHiolkGM/5ogyboJrY6o+ZJ/91boUNyUMzBalq//oMt/XdSZ04tyf9f1aFARxUOqWTSmVug0ACzBYTLcID//NExA4S2MqgAdpYAJcITBmXrz3MK9xrS5Yv3e7t4GK/YRH7vcfNTVa3LnR33UaUoLBMeB0D3gnijlBAB0iy6HjoMbdG9/////01hp2Xdjy0l1nKaA5A+1C1lnYkeCD6//NExBUVoUqcANMMlddISTgS2gNEZx9zCkfuVtPoUfzMOs7PzLxkkWxNIogEbBZ8oGRGZkzJZRBVthTMnYcg604w57QjjlF7dmeAfb7/xcb2dy22QxsQS4T1DAEZTRBT//NExBEVmb6oANKWlAVcSuxCKoFo7VkIhKb40+ad8of/aiPSzja3JDcJOuHAlk+7/JJDtiLkny/9Nl/+O9e9sWTKmfk+9I8EGCUICtb/////uSrv/zsZBIY/jbrvVuAB//NExA0UqfqsAMtamFedxNWgHZXuM7fKf1Gv1m3uTH61jEP00lxpKS+oTQpGTppGYV5og7qQJFPqjkT1LYrRV1q900l9aB9aUib///4ewBpCzlXX/+VKM2izNH8e1xMd//NExA0RgZ60AMqQlFoLtsGZG/iUZ6kDeh/1//Kv/w6R7/DgXj3g9H1QSgOQRIbs53+c1kuYIC7WBv99qf///hKy1Us0EEOojwKuQzJzLh0EwIn1vCoa9HI/PI/Mf81///NExBoRcaq0AKHQlORf9SLNx6BII182MDlfQaSJzar4IO+iRoPD7hIzDoov9Vln//+F8MtqE1ZZ/n9xjRrUw/LLlDZdAeJutsPhYv6CS3qR+//f+zvnaMTGovBkhQKi//NExCcR0aKsAMnMlNeExACTd9Kgk89nYlmtLmmo5D66Jme/5L///0CF3yNKVaWQ6v2BCDOmWVrnKl2yj01GXKjD8FJK2Rj4m0Qx/VDqa5v7PrPhY6ma0DqqnLTCUavG//NExDIRmZ6gANKMlEc//uZl8dpnL1Gq2mVv/7/////9SonZ1VgwZ7CTInyx1VQMhgXKggwCos8gGpvUv6t6GHZqmv7lgUcg5giJxQky6Td56tTO5nqarUpjBSoGkl7V//NExD4R2Z6cAMqGlOgNW///+8W9nRW9jletCAScwQ3s/b2QAndfyyihmLaNYof3UxtF6Ur2iM7eveyWF6TVZ5CWjlkylF39bGjo+3712ZulAJFxGD//LiB3///3/1rf//NExEkR6YqkANKMlHeqFJw+blHc6r7GGBMC2gmsVFt3Hmn5Pf6f3/a/8iojtqND0CJ+kCwvVaqHIRulUUNP/hk49Y/8Xdvuz0XfW/Z///3ou2IjwvXD/7hPHmBqxj1+//NExFQSWbawAMNQlARtjUlGznBRARuvFh/Kk30+f/+OI43PULC9lVzSLrQ0RRmymFCXqO+aRIdR0sT6kidSzjvEjl2///5UO79iBUgq//3phI9gaDd1GnCHJo09smq2//NExF0Sib60AMqOlDgHmW9Q9iUV0SX+Yp+tD/f7dMNsjgUP0BZLQui3lC0vtznnYnoCHiQDIQW+wSBhDdf//9FH176KYGlAlxqBkKwxr5FN2MaVVS/+8LrS4r//rcsf//NExGUR+aKwANNGlI4DwXcxRltShB1Y8eChc+qMrbqhfPViKUv0rzy6w0cMBQUF3aqDI4VSz//+5qj2jrXXdboCUWYQVAdzVVhRnMoCUvJfrQwZZoG2P+uqvYx3jqAH//NExHATYTqsAKaOcBbP/hK4G1l/14vGcteMBoLOWw5AsOSGQbd1L3XzBLrCFA0upnc5hJQdFgKwwOAouFAKGPFVCAEyTmt2K//2ohrroLKXVbdI0guiHmMglT/o3mGj//NExHUZKWKkANYQlOeqqO4uGSXUOADBLp0c3qGy7rF8Pr2VVozL9dvM9cix+7kArc+vVxWQy/4ZoIakjDpONVGFrrVSaqHxCEazSsUAFi0OZmbWrX6aYmrlHmqtQeHi//NExGMfGg6QAN5QmLDFGXKxArEkVnQ86IvS+lf/qqGtLTgFegP1iry0rSlpCnoeqAhnfXitQtGeH54F6a7BDbI3I5Z1YzUcqns5f9yGp6TWBUDJmOarCeqoSwmthAs///NExDkS6M6EAM5ScPw1ERH/zr5V0RJ3hwGv////8SoUShiBP0DBEkBFJEu48KSXV8ysxisDNYhQ2Il/1aXmrOd77nSXORsHWXD0jEwFDQHiJ+XeqC6ScZ6U9fOP65aR//NExEASkLpIAVoYANdFrhjl/+pTNfqqQ1TuLwMxKICARNqqVhhtDaAbuMNz8ijiqZKXIxfC3M2OdI0Nwpw6EET75gaIISQHCLgukn+XLoY9zQoDAFx/9VBBnGQXzMoj//NExEghSypkAZhoAA5Lkn/0+7LdArNx7n2N0zYYP/9tBk3rTTQKh6F84PA4XCxIuGhh//+yGgyemm+gkYGh8lDEeZdHePcmjnXVASAOaFdMDmJgCU522Fk9CD0ELEIn//NExBUX2yqkAYYYAOee6IJFbBZCcANWQDsqe/zfyWEp5khFOdbVEdI+axndLI5py+WkJ6j/qaFuX/0/9DQ8hIScQ/7D/QP4deeCIhoKHCeMsz82CD4EaglYMl+7Ud+E//NExAgUiqqYAYYoADDjfxMVNtx+Vg8qeFkBgFDXYOjAv4HEmV2Mb/0Y7DRzSkQ5P8i1qLl0LbL/8xJhVSiQoLMZ6lM5ZSm//KZEvFDOBSB0KgpYWEsK1TknRzpengGA//NExAgSyNYMAcZIAEAgpJmmZNNIxf6uRu/kf7j/lqkQqCwJCpE1IGQVBUFZZtJY2VqExJMVDV60cQlWocSDugS3EUih7BpblLDXln8RWckqC9DAoJHQesSJChqakgLA//NExA8Q8GX8AEjGKEEhgVCR6pBEJLAQOgkWfLFCwlDsaMWTNBeROm2j02stChoi2pEevOj608YPrLfTqRj1IuxSDoAIKnySJIBRmiSThQFfjAR4FQVVxMDXTLHhMeiI//NExB4RcFXwAGGGJPCLBosHRKMBosHc9q7i2JVB1UFVBz/yp3/dUHSp0QjAaKgqVOiI8G4UJDBQQcILEDCgoYGCdBY4lgoKgagSVhqhJWGJQlaRKoTSBqoSsMSqE0w1//NExCsPaGHsABCGKVRun//////X1VaWTVVTLIqqtL0FKTVqKREUUegvNRONLMvNyjTgToZGrA6CZkBBIRmTILC4ZMgIJCMyZBYXDJkBBIVM1C7P1s1ipI1CooSegVFu//NExEARKJWQAUYYACn///9a/5ZcNLHTACL/lmwUaHgp//fwMqRigk94ioZGAPn9wGYMuXCp/5wnB4LZBP/xkDc0Ig6H/+eTQNE6H//603ZN1ppf///sbm7H0kAf//8B//NExE4UUlIgAZuIALzdpipTQxCNYVAowNOZGQwXJ40OI4w3A06ODgwSBs6GAkLBIYWgyuQoRZBAGLGFgAelnUChy4YS7KToMKuhMoxfuOQK8DUqZzGxPN9errNpd6Ua//NExE8hGXZsAZ3AAKRecPNIvOxyk3j+dWtO0VbCjjc5FO3v5n/O/v//WHP/mt3MLEyxgOYBERQGf7eyj//9TvQ9NeXXlnywHGxuYDxQQDp4yRkxjz8jw/UPZVkv5Va7//NExB0RsR6IAds4AKzYtZ76lAZacKgKq9gqKlecCgINuCgtP4VF/jYt43fW/xI725P/////rYcrSl/i+pieymlASn1O0bqGHSYNGiL3nhdRt5mAzSnd2EW/WGtDrDhZ//NExCkRcWaMAONOlOsiE9tRA7vicGvNisj5r+n3+P6dGJv////+hTphpMKF4EPwpZTD4PcDcWayYRL4YNYtZcwDOCJqagEQqJ8ZBDmIuA3bOGKHOCpvxMXV8dBrtcdX//NExDYRQa6QAOQOlNH//8z7ff5Z3p////37qoJsZV4aMQjQirgCilcvMAMRA7Sx6KMx6ZvJDJJE9KMzJq/wmF7D6DK8a4FbR6S2M7nacBMWBN7ykwGBSIIuFggo4GMs//NExEQSgPagANvMcLf/////65jHUy8QpuAFmu4XrTKTaChN9lkiHOPcxCtN1aRk3Rm/av7/HkflWOR2Jg4LWQ5bdjOUH6qqCUEjUlQEcHhin/////RrJnERdYfVy5lj//NExE0SUY6sAMtOlEymJOpe2/3rPBkDLN6gtboMF/T4////9Tl8OScabqJh5WoEAUrYTDRUpYmBw8+go51YWf/////U1rwYvBdjAyqhw1yaCzh/A0m8JlzxK63rYJup//NExFYQmaq0ANHKlOBb5/qR/+n/kZ5zh8XBW8W0IUPMjRARVGcaMq6qQ9mQaMof/////U9Ny2hpUOXH91npP6VCaD6QVSgKbbH4CecEfUUfo3RvT4X/Z8AFPdBhZfZ6//NExGYQKaKwAMnKlAQAftAAu0sCloisddhQUthAFec////+oefKXGVJOLFqFf1u49I9hN3bUjGaaQs5QFhHQoJLaEW55v/jf2h8/tv7tn7GKJa+ggpJmLo1UUgssTiF//NExHgRUaa0AMFGlEKrDSR6TITF2BoyAhtX////XUarbvUaIrXmf6jQtDfeGVFgE6xnPdNQEgy0+VWhOvKzvf5GSNvsiSznrnOettggRa3OHEUWgeRI5qqrScV0QRSj//NExIUSoTK4AMnMcH07qGGAkgFv1nf////3xLrVuduNlMO0eVmIJVIKYFG8pdt0BJ7yfSS9WG9nm8cHaqU8GW/5XBqYnQTzAg9CeaDQhmFgG85gr5ykb7Gwg4lW4+ct//NExI0SkSasAMvMcFuDAEWcGaGYqSjABwidI4A4YuI16nbKXWeSK1Hqi+F+vFscdT6ZrCR+zz3mVGxUFDR26K9u227qt0Mc6JUde7lt3xU1nfpri82qBwg+7lEsWMwz//NExJUSMRqgAM4McIAHEIAJdtV8Gyk0gdMxClVWx0N/EahlkTaN4cpbKJoTsMYH4EyXRPRrqgMoTyN0h5TIEK6ksuv5dFnC5RmhojZOFMnCKlArfl9iGDVIqUTQ2QJ4//NExJ8QiUKgAVhYAbxmaEz/JgroIGap8yZEmTVdFjH/z74cBMiMAXb+WSEhaKEa9eupYqyg2iRKjnaSQxmlncdXbkuwlVulsVqtnIxboHXJITVgEElkj0RxbHqrXnX5//NExK8gQep0AZqIALFb5r90WURJv2Cw3rEC723eTlqGUD8UBGoOVmLrEkjkkms0j6PAN0VuKsbyMgqpgiRmKwtHBiRgNgERPU8OKh02osVCYdLBcZUYqcBqbix3rs/K//NExIEP8RIoAdgwAd7E2dPV1eiuK5mnEMEVSV6HlOYWNROrNc2hYBrm4/zxGHoy35S/nUEQyoyloVIFSDoCKrmtShYc8aQO6AmdDj6FPbe2TLeKubVSWliNPctyvrp5//NExJQSMMYUAGGMcM6NgKlTIpMHkjCZ0EykjC0kANwwnpwRPQI6Z0S8VZzJSBAMRQx/1JURYOUOWgkOJiqCQeCYBJMmRQej/u6WDr1oJDq66gUMAi1EiwwCAg4SKTIn//NExJ4SYMIEAGGMTCZE1BIiEFAKCgzjAQMYUSCQOg2CxMJAUiEk/1ogIkFAKRCQFJAUidHICpnR//1o0BQ0wYho+kxBTUUzLjEwMKqqqqqqqqqqqqqqqqqqTEFNRTMu//NExKcRULnsAEmMTDEwMKqqqqqqqqqqqqqqqqqqqqqqqqqqqqqqqqqqqqqqqqqqqqqqqqqqqqqqqqqqqqqqqqqqqqqqqqqqqqqqqqqqqqqqqqqqqqqqqqqqTEFNRTMu//NExLQQ4InIADGGTDEwMKqqqqqqqqqqqqqqqqqqqqqqqqqqqqqqqqqqqqqqqqqqqqqqqqqqqqqqqqqqqqqqqqqqqqqqqqqqqqqqqqqqqqqqqqqqqqqqqqqqTEFNRTMu//NExKwAAANIAAAAADEwMKqqqqqqqqqqqqqqqqqqqqqqqqqqqqqqqqqqqqqqqqqqqqqqqqqqqqqqqqqqqqqqqqqqqqqqqqqqqqqqqqqqqqqqqqqqqqqqqqqqTEFNRTMu//NExKwAAANIAAAAADEwMKqqqqqqqqqqqqqqqqqqqqqqqqqqqqqqqqqqqqqqqqqqqqqqqqqqqqqqqqqqqqqqqqqqqqqqqqqqqqqqqqqqqqqqqqqqqqqqqqqqTEFNRTMu//NExKwAAANIAAAAADEwMKqqqqqqqqqqqqqqqqqqqqqqqqqqqqqqqqqqqqqqqqqqqqqqqqqqqqqqqqqqqqqqqqqqqqqqqqqqqqqqqqqqqqqqqqqqqqqqqqqqTEFNRTMu//NExKwAAANIAAAAADEwMKqqqqqqqqqqqqqqqqqqqqqqqqqqqqqqqqqqqqqqqqqqqqqqqqqqqqqqqqqqqqqqqqqqqqqqqqqqqqqqqqqqqqqqqqqqqqqqqqqqTEFNRTMu//NExKwAAANIAAAAADEwMKqqqqqqqqqqqqqqqqqqqqqqqqqqqqqqqqqqqqqqqqqqqqqqqqqqqqqqqqqqqqqqqqqqqqqqqqqqqqqqqqqqqqqqqqqqqqqqqqqqqqqqqqqq//NExKwAAANIAAAAAKqqqqqqqqqqqqqqqqqqqqqqqqqqqqqqqqqqqqqqqqqqqqqqqqqqqqqqqqqqqqqqqqqqqqqqqqqqqqqqqqqqqqqqqqqqqqqqqqqqqqqqqqqqqqqq//NExKwAAANIAAAAAKqqqqqqqqqqqqqqqqqqqqqqqqqqqqqqqqqqqqqqqqqqqqqqqqqqqqqqqqqqqqqqqqqqqqqqqqqqqqqqqqqqqqqqqqqqqqqqqqqqqqqqqqqqqqqq\" type=\"audio/x-wav\" />\n",
              "                    Your browser does not support the audio element.\n",
              "                </audio>\n",
              "              "
            ]
          },
          "metadata": {},
          "execution_count": 7
        }
      ]
    }
  ]
}